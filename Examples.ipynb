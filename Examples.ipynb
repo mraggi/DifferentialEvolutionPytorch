{
 "cells": [
  {
   "cell_type": "code",
   "execution_count": 4,
   "metadata": {},
   "outputs": [],
   "source": [
    "from differential_evolution import optimize\n",
    "from timer import Timer"
   ]
  },
  {
   "cell_type": "code",
   "execution_count": 5,
   "metadata": {},
   "outputs": [],
   "source": [
    "def matrix_cost(M):\n",
    "    x = torch.det(torch.bmm(M,M) + M + 1)\n",
    "    return x*x"
   ]
  },
  {
   "cell_type": "code",
   "execution_count": 6,
   "metadata": {},
   "outputs": [
    {
     "data": {
      "text/html": [
       "\n",
       "    <div>\n",
       "        <style>\n",
       "            /* Turns off some styling */\n",
       "            progress {\n",
       "                /* gets rid of default border in Firefox and Opera. */\n",
       "                border: none;\n",
       "                /* Needs to be in here for Safari polyfill so background images work as expected. */\n",
       "                background-size: auto;\n",
       "            }\n",
       "            .progress-bar-interrupted, .progress-bar-interrupted::-webkit-progress-bar {\n",
       "                background: #F44336;\n",
       "            }\n",
       "        </style>\n",
       "      <progress value='19455' class='' max='19454', style='width:300px; height:20px; vertical-align: middle;'></progress>\n",
       "      100.00% [19455/19455 00:10<00:00 | best cost = 0.000]\n",
       "    </div>\n",
       "    "
      ],
      "text/plain": [
       "<IPython.core.display.HTML object>"
      ]
     },
     "metadata": {},
     "output_type": "display_data"
    },
    {
     "data": {
      "text/plain": [
       "(1.4518942634822452e-06,\n",
       " tensor([[-0.1213,  0.7456, -0.2790, -0.4660,  1.8336],\n",
       "         [-0.4204, -1.1127,  2.3394, -1.4035, -3.0741],\n",
       "         [ 2.4468,  0.0767,  0.2665, -0.2187,  1.8682],\n",
       "         [ 0.8435, -1.1646,  2.0191, -1.1436, -1.4431],\n",
       "         [ 1.0106, -1.2558,  0.7051,  0.4762, -0.7508]]))"
      ]
     },
     "execution_count": 6,
     "metadata": {},
     "output_type": "execute_result"
    }
   ],
   "source": [
    "optimize(matrix_cost, pop_size = 60, dim=(5,5), epochs=Timer(10))"
   ]
  },
  {
   "cell_type": "code",
   "execution_count": 7,
   "metadata": {},
   "outputs": [
    {
     "data": {
      "text/html": [
       "\n",
       "    <div>\n",
       "        <style>\n",
       "            /* Turns off some styling */\n",
       "            progress {\n",
       "                /* gets rid of default border in Firefox and Opera. */\n",
       "                border: none;\n",
       "                /* Needs to be in here for Safari polyfill so background images work as expected. */\n",
       "                background-size: auto;\n",
       "            }\n",
       "            .progress-bar-interrupted, .progress-bar-interrupted::-webkit-progress-bar {\n",
       "                background: #F44336;\n",
       "            }\n",
       "        </style>\n",
       "      <progress value='100' class='' max='100', style='width:300px; height:20px; vertical-align: middle;'></progress>\n",
       "      100.00% [100/100 00:00<00:00 | best cost = 0.000]\n",
       "    </div>\n",
       "    "
      ],
      "text/plain": [
       "<IPython.core.display.HTML object>"
      ]
     },
     "metadata": {},
     "output_type": "display_data"
    },
    {
     "data": {
      "text/plain": [
       "(1.5474828614969738e-05,\n",
       " tensor([[-4.2676e-01,  8.4523e-01, -2.4238e+00, -6.9477e-01,  3.4377e-01],\n",
       "         [-8.8519e-01, -1.0288e+00, -1.3508e+00, -6.3709e-01, -1.0409e+00],\n",
       "         [ 1.2098e+00,  6.4819e-01,  7.0985e-01,  6.4997e-01,  1.7830e+00],\n",
       "         [-7.0817e-01, -2.7000e-01, -1.4124e-01, -3.4432e-01, -3.6290e-01],\n",
       "         [-2.0654e-01,  1.6984e-03, -1.1640e+00, -1.4207e+00, -1.5112e+00]]))"
      ]
     },
     "execution_count": 7,
     "metadata": {},
     "output_type": "execute_result"
    }
   ],
   "source": [
    "optimize(matrix_cost, pop_size = 60, dim=(5,5), epochs=100)"
   ]
  },
  {
   "cell_type": "code",
   "execution_count": 8,
   "metadata": {},
   "outputs": [
    {
     "data": {
      "text/html": [
       "\n",
       "    <div>\n",
       "        <style>\n",
       "            /* Turns off some styling */\n",
       "            progress {\n",
       "                /* gets rid of default border in Firefox and Opera. */\n",
       "                border: none;\n",
       "                /* Needs to be in here for Safari polyfill so background images work as expected. */\n",
       "                background-size: auto;\n",
       "            }\n",
       "            .progress-bar-interrupted, .progress-bar-interrupted::-webkit-progress-bar {\n",
       "                background: #F44336;\n",
       "            }\n",
       "        </style>\n",
       "      <progress value='100' class='' max='100', style='width:300px; height:20px; vertical-align: middle;'></progress>\n",
       "      100.00% [100/100 00:00<00:00 | best cost = 0.052]\n",
       "    </div>\n",
       "    "
      ],
      "text/plain": [
       "<IPython.core.display.HTML object>"
      ]
     },
     "metadata": {},
     "output_type": "display_data"
    },
    {
     "data": {
      "text/plain": [
       "(0.05211026594042778,\n",
       " tensor([[-1.7749, -1.6270, -0.6224, -1.0075, -1.0314],\n",
       "         [ 1.1337,  0.7654,  0.7486, -0.2459, -1.0981],\n",
       "         [ 0.1570,  1.8292, -0.7918,  0.3977,  1.0390],\n",
       "         [-1.0919,  0.7628, -2.8400,  0.8305,  0.0417],\n",
       "         [-0.3541,  0.2810,  1.1724, -0.7322,  1.0674]]))"
      ]
     },
     "execution_count": 8,
     "metadata": {},
     "output_type": "execute_result"
    }
   ],
   "source": [
    "optimize(matrix_cost, pop_size = 60, dim=(5,5), epochs=range(100))"
   ]
  },
  {
   "cell_type": "code",
   "execution_count": 9,
   "metadata": {},
   "outputs": [
    {
     "data": {
      "text/html": [
       "\n",
       "    <div>\n",
       "        <style>\n",
       "            /* Turns off some styling */\n",
       "            progress {\n",
       "                /* gets rid of default border in Firefox and Opera. */\n",
       "                border: none;\n",
       "                /* Needs to be in here for Safari polyfill so background images work as expected. */\n",
       "                background-size: auto;\n",
       "            }\n",
       "            .progress-bar-interrupted, .progress-bar-interrupted::-webkit-progress-bar {\n",
       "                background: #F44336;\n",
       "            }\n",
       "        </style>\n",
       "      <progress value='1009' class='' max='1009', style='width:300px; height:20px; vertical-align: middle;'></progress>\n",
       "      100.00% [1009/1009 00:00<00:00 | best cost = 0.000]\n",
       "    </div>\n",
       "    "
      ],
      "text/plain": [
       "<IPython.core.display.HTML object>"
      ]
     },
     "metadata": {},
     "output_type": "display_data"
    },
    {
     "data": {
      "text/plain": [
       "(1.057436094242803e-07,\n",
       " tensor([[ 0.7152, -0.0198, -0.4961,  1.2521,  0.7508],\n",
       "         [ 2.1019,  2.1711, -2.2907, -2.7898,  1.5381],\n",
       "         [ 1.4705,  0.6886, -1.2266, -0.6548,  0.9765],\n",
       "         [ 2.0926,  1.9785,  0.8231,  0.7062,  0.8181],\n",
       "         [ 1.1983, -0.4962,  0.4377,  1.0981, -0.3262]]))"
      ]
     },
     "execution_count": 9,
     "metadata": {},
     "output_type": "execute_result"
    }
   ],
   "source": [
    "optimize(matrix_cost, pop_size = 60, dim=(5,5), epochs=list(range(1009)))"
   ]
  },
  {
   "cell_type": "code",
   "execution_count": null,
   "metadata": {},
   "outputs": [],
   "source": []
  }
 ],
 "metadata": {
  "kernelspec": {
   "display_name": "Python 3",
   "language": "python",
   "name": "python3"
  },
  "language_info": {
   "codemirror_mode": {
    "name": "ipython",
    "version": 3
   },
   "file_extension": ".py",
   "mimetype": "text/x-python",
   "name": "python",
   "nbconvert_exporter": "python",
   "pygments_lexer": "ipython3",
   "version": "3.7.7"
  }
 },
 "nbformat": 4,
 "nbformat_minor": 4
}
