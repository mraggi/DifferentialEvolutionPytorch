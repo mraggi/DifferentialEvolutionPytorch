{
 "cells": [
  {
   "cell_type": "code",
   "execution_count": 9,
   "metadata": {},
   "outputs": [],
   "source": [
    "from differential_evolution import optimize\n",
    "from timer import Timer\n",
    "import torch"
   ]
  },
  {
   "cell_type": "code",
   "execution_count": 10,
   "metadata": {},
   "outputs": [],
   "source": [
    "def matrix_cost(M):\n",
    "    M = torch.mean(M,dim=1)\n",
    "    M = torch.mean(M,dim=1)\n",
    "    return torch.abs(M)"
   ]
  },
  {
   "cell_type": "code",
   "execution_count": 11,
   "metadata": {},
   "outputs": [
    {
     "data": {
      "text/html": [
       "\n",
       "    <div>\n",
       "        <style>\n",
       "            /* Turns off some styling */\n",
       "            progress {\n",
       "                /* gets rid of default border in Firefox and Opera. */\n",
       "                border: none;\n",
       "                /* Needs to be in here for Safari polyfill so background images work as expected. */\n",
       "                background-size: auto;\n",
       "            }\n",
       "            .progress-bar-interrupted, .progress-bar-interrupted::-webkit-progress-bar {\n",
       "                background: #F44336;\n",
       "            }\n",
       "        </style>\n",
       "      <progress value='6998' class='' max='6998', style='width:300px; height:20px; vertical-align: middle;'></progress>\n",
       "      100.00% [6998/6998 00:05<00:00 | best cost = 0.0000]\n",
       "    </div>\n",
       "    "
      ],
      "text/plain": [
       "<IPython.core.display.HTML object>"
      ]
     },
     "metadata": {},
     "output_type": "display_data"
    }
   ],
   "source": [
    "x=optimize(matrix_cost, pop_size = 60, dim=(20,20), epochs=Timer(5), use_cuda=True)"
   ]
  },
  {
   "cell_type": "code",
   "execution_count": 8,
   "metadata": {
    "collapsed": true,
    "jupyter": {
     "outputs_hidden": true
    }
   },
   "outputs": [
    {
     "data": {
      "text/html": [
       "\n",
       "    <div>\n",
       "        <style>\n",
       "            /* Turns off some styling */\n",
       "            progress {\n",
       "                /* gets rid of default border in Firefox and Opera. */\n",
       "                border: none;\n",
       "                /* Needs to be in here for Safari polyfill so background images work as expected. */\n",
       "                background-size: auto;\n",
       "            }\n",
       "            .progress-bar-interrupted, .progress-bar-interrupted::-webkit-progress-bar {\n",
       "                background: #F44336;\n",
       "            }\n",
       "        </style>\n",
       "      <progress value='7695' class='' max='7695', style='width:300px; height:20px; vertical-align: middle;'></progress>\n",
       "      100.00% [7695/7695 00:05<00:00 | best cost = 0.0000]\n",
       "    </div>\n",
       "    "
      ],
      "text/plain": [
       "<IPython.core.display.HTML object>"
      ]
     },
     "metadata": {},
     "output_type": "display_data"
    },
    {
     "data": {
      "text/plain": [
       "(2.384185791015625e-07,\n",
       " tensor([[-1.3297e+01, -1.5345e+01,  4.6089e+00, -5.0597e+01,  1.4481e+01,\n",
       "          -5.9686e+00, -1.0904e+01,  6.1049e+00,  2.6125e+00, -4.4465e-01,\n",
       "           1.1182e+01,  1.0293e+00,  2.7142e+01, -1.2029e+01, -2.1087e+01,\n",
       "           1.9915e+00, -3.1036e+01, -8.4848e+00,  1.2408e+01,  4.9787e-01],\n",
       "         [ 2.6164e+01,  1.0245e+01, -6.1859e-01,  2.7264e+00, -2.9243e+00,\n",
       "           1.7133e+01, -6.4531e-01, -2.5315e+01, -2.8714e+00, -2.1089e-01,\n",
       "          -8.2973e+00,  1.3103e+01,  1.2558e+01, -2.4566e+01,  2.2329e+01,\n",
       "          -1.2879e+01,  1.7020e+01, -2.5435e+01,  4.1415e+00,  1.1387e+00],\n",
       "         [ 1.3856e+01,  3.6322e+00,  2.7470e+01, -3.7280e+00, -9.8646e+00,\n",
       "          -6.7518e+00, -6.0292e+00,  6.6420e-01, -6.1924e+00,  1.6627e+01,\n",
       "          -5.2251e+00, -1.1185e+01, -4.9827e+00,  3.1152e+01, -1.1276e+01,\n",
       "           6.6226e+00, -2.5198e+01, -4.4678e+00, -1.1150e+01,  3.0156e+01],\n",
       "         [-1.0124e+01,  4.8923e+00,  1.1013e+01,  1.3192e+01, -3.0175e+00,\n",
       "          -3.4289e+00, -2.8867e-01,  4.1966e+00, -7.1732e-01, -6.3340e-01,\n",
       "           4.0150e+00,  2.7982e+01,  2.7301e+00,  1.7144e+01, -1.2844e+00,\n",
       "           2.1954e+01, -1.3674e+01, -7.4171e+00,  1.4616e+01,  2.9385e+01],\n",
       "         [-3.8256e-01,  8.8815e-01, -1.5369e+00,  1.6294e+01, -3.5083e+01,\n",
       "          -2.8255e+01, -1.6604e+00, -3.2516e+01,  1.5717e+01, -2.1515e-01,\n",
       "           2.4622e+01, -6.6107e+00, -6.4794e+00, -1.9639e-01, -2.3326e+01,\n",
       "          -2.8119e+00,  8.0276e+00,  2.1872e+00,  7.0794e+00,  9.5372e+00],\n",
       "         [-4.2702e+00, -2.2323e+01, -1.0956e+01, -7.8918e+00, -4.2030e+00,\n",
       "           1.0489e+01, -1.2871e+01,  2.2245e+01, -4.5203e+00, -1.2560e+01,\n",
       "           2.3129e+01, -1.9675e+01,  3.8507e+01,  1.5827e+00, -2.1296e+00,\n",
       "          -2.0290e+01, -2.4322e+01, -1.8841e+01,  9.2419e+00, -2.7402e+01],\n",
       "         [-2.2311e+01,  4.8420e+00,  4.9004e+00,  2.6249e+00, -7.1464e-01,\n",
       "          -1.0401e+01,  2.2646e+01,  1.2651e+01, -7.8246e+00, -2.3608e+01,\n",
       "           8.6053e-01,  2.0128e+01,  4.3835e+00, -8.8832e+00,  4.8061e+01,\n",
       "          -2.3609e+01,  3.4945e+01, -3.0722e+01, -4.9911e-01, -2.2959e+01],\n",
       "         [ 7.3384e+00,  2.6434e-01, -5.6214e+00,  2.4371e+00,  6.9674e+00,\n",
       "           2.3239e+01,  7.7809e+00,  2.6953e+00, -6.7348e+00,  4.6255e+00,\n",
       "           3.6622e+00, -1.8056e+01, -3.0502e+00, -2.1170e+01, -6.1336e-01,\n",
       "           5.2210e+01, -2.0371e+00, -7.1282e+00,  7.3447e+00,  3.2202e+00],\n",
       "         [-1.4911e+01,  2.2393e-01, -2.3174e+01,  3.2908e-01, -3.4702e-01,\n",
       "           2.0879e+00, -1.1212e+01,  2.0934e+01, -3.3235e+01, -2.9834e+00,\n",
       "           1.6513e+01,  5.8476e-02, -1.0378e+00, -3.0131e+00, -9.4644e+00,\n",
       "          -2.4105e+01,  1.7561e+01,  1.0134e+01, -5.3881e+01, -8.0787e+00],\n",
       "         [ 6.4225e+00,  2.2126e+00,  1.1169e+01,  2.7323e+00, -3.5277e+01,\n",
       "           2.6449e+01, -3.6647e+01,  1.4704e+00,  1.5474e+01, -7.7983e-01,\n",
       "          -5.5426e-01, -8.0694e+00, -1.1555e+01, -1.8190e+00,  1.9908e+01,\n",
       "          -2.2453e+00,  2.8328e+01, -6.6420e+00, -8.1192e+00,  6.5660e+00],\n",
       "         [-4.0544e+01, -6.6169e+00,  1.5517e+00,  3.1676e+00, -1.9575e+01,\n",
       "          -2.4351e+00, -3.0238e+01,  8.2501e+00, -2.9814e-01,  3.4291e+00,\n",
       "           1.3217e+01, -1.7366e+00,  1.0896e+01, -5.7259e-01,  5.9701e+00,\n",
       "           1.7475e+01,  1.1610e+01,  9.1356e+00,  2.4351e+01,  1.6508e+01],\n",
       "         [-7.3399e+00,  1.8374e+01, -5.4272e+00, -3.3175e+01,  2.6487e+01,\n",
       "           8.3797e-01,  2.1035e+00,  3.5420e+00,  2.5697e+01,  3.9595e+00,\n",
       "           3.1200e+00, -4.1849e-01, -3.0760e+00,  1.6823e+01, -1.1143e+01,\n",
       "           4.9181e-01,  3.5438e+01,  1.0084e+01, -2.5721e+00,  7.2935e-01],\n",
       "         [ 3.6409e+00,  4.7514e-01,  7.5312e+00,  2.6568e+01, -1.5012e+01,\n",
       "           1.2989e+01,  5.3475e+00, -1.0240e+00,  3.0777e+01, -1.0115e+01,\n",
       "          -1.6362e+01,  2.7278e+01,  4.3160e+01,  3.0697e+00, -6.4459e+00,\n",
       "          -2.4782e+01,  3.0826e+00, -7.8906e-01, -2.6039e+01,  1.1077e+01],\n",
       "         [ 6.7092e+00,  2.3168e+01,  7.5805e+00,  3.1538e+00, -1.8469e+01,\n",
       "          -1.3774e+01, -7.1081e+00, -5.1140e+01, -1.0250e+01, -2.0065e-01,\n",
       "           1.3294e+01,  1.0618e+00, -1.6848e+01, -2.6837e+00, -2.0906e+00,\n",
       "          -7.2175e+00,  3.7478e+01,  5.4671e-01, -3.4225e+01, -2.6582e+01],\n",
       "         [ 4.2868e+00,  3.4497e-01, -3.1973e+00, -1.0203e+01, -2.9983e+00,\n",
       "           2.2086e+01, -3.0581e-01, -1.4110e-01, -4.0495e-01,  5.8014e+00,\n",
       "           9.2397e+00, -9.5475e+00,  2.4378e+00,  7.9585e+00,  2.8417e+00,\n",
       "          -2.8711e+00, -2.8527e+01, -1.1648e+01,  2.5295e+01,  5.9895e+01],\n",
       "         [-1.8722e+00,  1.7824e+01,  5.8926e-01, -3.5094e+00,  7.2589e-02,\n",
       "          -2.6921e+01,  1.5729e+01, -1.4451e+01, -1.9495e+00, -5.4738e-01,\n",
       "          -1.3297e+01,  2.8721e+01, -5.7888e+00,  1.9170e+01,  1.3734e+00,\n",
       "           1.1640e+01,  1.5458e+01,  5.3223e+00,  1.2373e-01,  2.0007e+00],\n",
       "         [ 2.2645e+00,  7.7912e-01, -2.9221e+00, -1.0342e+01,  1.9599e+01,\n",
       "           4.4782e+01,  2.2323e+00, -5.9011e-01,  1.5438e+01,  2.2689e+01,\n",
       "           2.4682e+01, -3.4440e+00,  1.9613e+01,  4.3932e+00, -2.8044e+00,\n",
       "          -3.9992e+00, -9.2309e+00,  5.7846e+00,  1.2145e+01, -9.4616e+00],\n",
       "         [-5.8511e+01, -2.4174e+00,  2.5715e+01, -2.1414e+01, -4.8499e+00,\n",
       "          -1.4806e+00,  5.1265e+00,  1.1050e+01,  3.7147e+00, -3.0570e+00,\n",
       "          -3.2671e+01, -4.7037e-01, -6.9318e+00,  3.0085e+00,  3.0963e+00,\n",
       "          -5.4367e+00,  2.8693e+00, -1.9655e+00, -1.1865e+01, -1.8128e+00],\n",
       "         [-3.3464e+00,  1.0181e+01,  4.4270e+00, -3.8143e+01,  5.0038e+00,\n",
       "           1.2069e+01,  7.7738e+00, -1.6410e+00, -2.4474e+01, -4.5653e+00,\n",
       "           3.4495e+00,  4.1912e+01, -2.3852e+01, -7.2171e+00,  1.9434e+00,\n",
       "           1.1201e+01,  7.4393e+00, -1.7317e+01,  3.5348e+01, -2.5011e+00],\n",
       "         [ 4.6032e+00, -5.0513e+01, -3.0896e+00,  1.5706e+01, -1.5218e+01,\n",
       "          -2.8644e+00, -5.3509e-01,  5.5561e-01, -1.5542e+01, -2.2405e+00,\n",
       "           9.8699e-02, -2.7197e+01,  1.2380e+01, -2.3018e+00, -1.5504e+01,\n",
       "          -4.8600e-01,  9.3259e+00, -8.4805e+00, -5.0920e+01,  1.4436e+01]]))"
      ]
     },
     "execution_count": 8,
     "metadata": {},
     "output_type": "execute_result"
    }
   ],
   "source": [
    "optimize(matrix_cost, pop_size = 60, dim=(20,20), epochs=Timer(5), use_cuda=False)"
   ]
  },
  {
   "cell_type": "code",
   "execution_count": null,
   "metadata": {},
   "outputs": [],
   "source": [
    "optimize(matrix_cost, pop_size = 60, dim=(5,5), epochs=100)"
   ]
  },
  {
   "cell_type": "code",
   "execution_count": null,
   "metadata": {},
   "outputs": [],
   "source": [
    "optimize(matrix_cost, pop_size = 60, dim=(5,5), epochs=range(100))"
   ]
  },
  {
   "cell_type": "code",
   "execution_count": null,
   "metadata": {},
   "outputs": [],
   "source": [
    "optimize(matrix_cost, pop_size = 60, dim=(5,5), epochs=list(range(1009)))"
   ]
  },
  {
   "cell_type": "code",
   "execution_count": 13,
   "metadata": {},
   "outputs": [
    {
     "data": {
      "text/html": [
       "\n",
       "    <div>\n",
       "        <style>\n",
       "            /* Turns off some styling */\n",
       "            progress {\n",
       "                /* gets rid of default border in Firefox and Opera. */\n",
       "                border: none;\n",
       "                /* Needs to be in here for Safari polyfill so background images work as expected. */\n",
       "                background-size: auto;\n",
       "            }\n",
       "            .progress-bar-interrupted, .progress-bar-interrupted::-webkit-progress-bar {\n",
       "                background: #F44336;\n",
       "            }\n",
       "        </style>\n",
       "      <progress value='114' class='' max='114', style='width:300px; height:20px; vertical-align: middle;'></progress>\n",
       "      100.00% [114/114 00:04<00:00 | best cost = 0.0000]\n",
       "    </div>\n",
       "    "
      ],
      "text/plain": [
       "<IPython.core.display.HTML object>"
      ]
     },
     "metadata": {},
     "output_type": "display_data"
    },
    {
     "data": {
      "text/plain": [
       "(2.5644301786087453e-05,\n",
       " tensor([[ -6.6095,  23.1617, -24.3765,  ...,  -6.1198,  47.6885,  -6.0834],\n",
       "         [-13.9169,  -3.0028,  23.2418,  ..., -18.9443,   7.4232, -28.6693],\n",
       "         [-11.8676,  -8.6349, -26.2493,  ...,  -8.2205,  -6.0282, -33.3943],\n",
       "         ...,\n",
       "         [  2.4131, -32.3649, -32.5460,  ...,  49.8879, -17.5115,  41.4783],\n",
       "         [-19.4401,   4.8690,  47.5620,  ...,  29.9324,  11.4252, -13.7259],\n",
       "         [ 22.7921,   0.5920,  15.7040,  ...,   1.9659,   2.2869,  -1.5199]]))"
      ]
     },
     "execution_count": 13,
     "metadata": {},
     "output_type": "execute_result"
    }
   ],
   "source": [
    "optimize(matrix_cost, initial_pop=torch.rand(600,50,50), epochs=Timer(5))"
   ]
  },
  {
   "cell_type": "code",
   "execution_count": null,
   "metadata": {},
   "outputs": [],
   "source": []
  }
 ],
 "metadata": {
  "kernelspec": {
   "display_name": "Python 3",
   "language": "python",
   "name": "python3"
  },
  "language_info": {
   "codemirror_mode": {
    "name": "ipython",
    "version": 3
   },
   "file_extension": ".py",
   "mimetype": "text/x-python",
   "name": "python",
   "nbconvert_exporter": "python",
   "pygments_lexer": "ipython3",
   "version": "3.7.7"
  }
 },
 "nbformat": 4,
 "nbformat_minor": 4
}
